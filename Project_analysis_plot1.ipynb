{
 "cells": [
  {
   "cell_type": "code",
   "execution_count": 1,
   "metadata": {},
   "outputs": [],
   "source": [
    "# # Project proposal\n",
    "import pandas as pd\n",
    "import numpy as np \n",
    "import matplotlib.pyplot as plt \n",
    "from datetime import date\n",
    "from scipy.stats import zscore\n",
    "import re \n",
    "import seaborn as sns; sns.set(style=\"ticks\", color_codes=True)\n",
    "\n"
   ]
  },
  {
   "cell_type": "code",
   "execution_count": 2,
   "metadata": {},
   "outputs": [
    {
     "name": "stderr",
     "output_type": "stream",
     "text": [
      "D:\\Anaconda3\\lib\\site-packages\\IPython\\core\\interactiveshell.py:3058: DtypeWarning: Columns (9,10) have mixed types. Specify dtype option on import or set low_memory=False.\n",
      "  interactivity=interactivity, compiler=compiler, result=result)\n"
     ]
    },
    {
     "data": {
      "text/html": [
       "<div>\n",
       "<style scoped>\n",
       "    .dataframe tbody tr th:only-of-type {\n",
       "        vertical-align: middle;\n",
       "    }\n",
       "\n",
       "    .dataframe tbody tr th {\n",
       "        vertical-align: top;\n",
       "    }\n",
       "\n",
       "    .dataframe thead th {\n",
       "        text-align: right;\n",
       "    }\n",
       "</style>\n",
       "<table border=\"1\" class=\"dataframe\">\n",
       "  <thead>\n",
       "    <tr style=\"text-align: right;\">\n",
       "      <th></th>\n",
       "      <th>dataset_id</th>\n",
       "      <th>as_of_date</th>\n",
       "      <th>company_name</th>\n",
       "      <th>followers_count</th>\n",
       "      <th>employees_on_platform</th>\n",
       "      <th>link</th>\n",
       "      <th>industry</th>\n",
       "      <th>date_added</th>\n",
       "      <th>date_updated</th>\n",
       "      <th>description</th>\n",
       "      <th>website</th>\n",
       "      <th>entity_id</th>\n",
       "      <th>cusip</th>\n",
       "      <th>isin</th>\n",
       "    </tr>\n",
       "  </thead>\n",
       "  <tbody>\n",
       "    <tr>\n",
       "      <td>0</td>\n",
       "      <td>58329</td>\n",
       "      <td>2015-09-14</td>\n",
       "      <td>Goldman Sachs</td>\n",
       "      <td>552254</td>\n",
       "      <td>38124</td>\n",
       "      <td>https://www.linkedin.com/company/1382</td>\n",
       "      <td>Investment Banking</td>\n",
       "      <td>2015-09-14 00:00:00+00</td>\n",
       "      <td>2015-09-14 00:00:00+00</td>\n",
       "      <td>NaN</td>\n",
       "      <td>NaN</td>\n",
       "      <td>NaN</td>\n",
       "      <td>NaN</td>\n",
       "      <td>NaN</td>\n",
       "    </tr>\n",
       "    <tr>\n",
       "      <td>1</td>\n",
       "      <td>58329</td>\n",
       "      <td>2015-09-15</td>\n",
       "      <td>Goldman Sachs</td>\n",
       "      <td>552862</td>\n",
       "      <td>38141</td>\n",
       "      <td>https://www.linkedin.com/company/1382</td>\n",
       "      <td>Investment Banking</td>\n",
       "      <td>2015-09-15 00:00:00+00</td>\n",
       "      <td>2015-09-15 00:00:00+00</td>\n",
       "      <td>NaN</td>\n",
       "      <td>NaN</td>\n",
       "      <td>NaN</td>\n",
       "      <td>NaN</td>\n",
       "      <td>NaN</td>\n",
       "    </tr>\n",
       "    <tr>\n",
       "      <td>2</td>\n",
       "      <td>58363</td>\n",
       "      <td>2015-09-16</td>\n",
       "      <td>United Technologies</td>\n",
       "      <td>59157</td>\n",
       "      <td>14982</td>\n",
       "      <td>https://www.linkedin.com/company/2426</td>\n",
       "      <td>Aviation &amp; Aerospace</td>\n",
       "      <td>2015-09-16 00:00:00+00</td>\n",
       "      <td>2015-09-16 00:00:00+00</td>\n",
       "      <td>NaN</td>\n",
       "      <td>NaN</td>\n",
       "      <td>NaN</td>\n",
       "      <td>NaN</td>\n",
       "      <td>NaN</td>\n",
       "    </tr>\n",
       "    <tr>\n",
       "      <td>3</td>\n",
       "      <td>58366</td>\n",
       "      <td>2015-09-16</td>\n",
       "      <td>Novo Nordisk</td>\n",
       "      <td>336175</td>\n",
       "      <td>26448</td>\n",
       "      <td>https://www.linkedin.com/company/2227</td>\n",
       "      <td>Pharmaceuticals</td>\n",
       "      <td>2015-09-16 00:00:00+00</td>\n",
       "      <td>2015-09-16 00:00:00+00</td>\n",
       "      <td>NaN</td>\n",
       "      <td>NaN</td>\n",
       "      <td>NaN</td>\n",
       "      <td>NaN</td>\n",
       "      <td>NaN</td>\n",
       "    </tr>\n",
       "    <tr>\n",
       "      <td>4</td>\n",
       "      <td>58371</td>\n",
       "      <td>2015-09-16</td>\n",
       "      <td>Lowe's Companies, Inc.</td>\n",
       "      <td>134255</td>\n",
       "      <td>62574</td>\n",
       "      <td>https://www.linkedin.com/company/4128</td>\n",
       "      <td>Retail</td>\n",
       "      <td>2015-09-16 00:00:00+00</td>\n",
       "      <td>2015-09-16 00:00:00+00</td>\n",
       "      <td>NaN</td>\n",
       "      <td>NaN</td>\n",
       "      <td>NaN</td>\n",
       "      <td>NaN</td>\n",
       "      <td>NaN</td>\n",
       "    </tr>\n",
       "  </tbody>\n",
       "</table>\n",
       "</div>"
      ],
      "text/plain": [
       "   dataset_id  as_of_date            company_name  followers_count  \\\n",
       "0       58329  2015-09-14           Goldman Sachs           552254   \n",
       "1       58329  2015-09-15           Goldman Sachs           552862   \n",
       "2       58363  2015-09-16     United Technologies            59157   \n",
       "3       58366  2015-09-16            Novo Nordisk           336175   \n",
       "4       58371  2015-09-16  Lowe's Companies, Inc.           134255   \n",
       "\n",
       "   employees_on_platform                                   link  \\\n",
       "0                  38124  https://www.linkedin.com/company/1382   \n",
       "1                  38141  https://www.linkedin.com/company/1382   \n",
       "2                  14982  https://www.linkedin.com/company/2426   \n",
       "3                  26448  https://www.linkedin.com/company/2227   \n",
       "4                  62574  https://www.linkedin.com/company/4128   \n",
       "\n",
       "               industry              date_added            date_updated  \\\n",
       "0    Investment Banking  2015-09-14 00:00:00+00  2015-09-14 00:00:00+00   \n",
       "1    Investment Banking  2015-09-15 00:00:00+00  2015-09-15 00:00:00+00   \n",
       "2  Aviation & Aerospace  2015-09-16 00:00:00+00  2015-09-16 00:00:00+00   \n",
       "3       Pharmaceuticals  2015-09-16 00:00:00+00  2015-09-16 00:00:00+00   \n",
       "4                Retail  2015-09-16 00:00:00+00  2015-09-16 00:00:00+00   \n",
       "\n",
       "  description website  entity_id  cusip  isin  \n",
       "0         NaN     NaN        NaN    NaN   NaN  \n",
       "1         NaN     NaN        NaN    NaN   NaN  \n",
       "2         NaN     NaN        NaN    NaN   NaN  \n",
       "3         NaN     NaN        NaN    NaN   NaN  \n",
       "4         NaN     NaN        NaN    NaN   NaN  "
      ]
     },
     "execution_count": 2,
     "metadata": {},
     "output_type": "execute_result"
    }
   ],
   "source": [
    "#reanding the file \n",
    "name_file2 =\"C:/Users/user/Downloads/Lo de Xibe/temp_datalab_records_linkedin_company.csv\"\n",
    "# '/home/xibelly/Documentos/data_incubator/Input/temp_datalab_records_linkedin_company.csv'\n",
    "\n",
    "data_project = pd.read_csv(name_file2, sep=',')\n",
    "data_project.head()"
   ]
  },
  {
   "cell_type": "code",
   "execution_count": null,
   "metadata": {},
   "outputs": [],
   "source": [
    "#type of variables\n",
    "data_project.dtypes\n"
   ]
  },
  {
   "cell_type": "code",
   "execution_count": null,
   "metadata": {},
   "outputs": [],
   "source": [
    "#general information\n",
    "data_project.describe()"
   ]
  },
  {
   "cell_type": "code",
   "execution_count": null,
   "metadata": {},
   "outputs": [],
   "source": [
    "print(\"data analysis (Number of variables, Number of observations)\")\n",
    "print('Number of variables: {0}'.format(data_project.shape[1]))\n",
    "print('Number of observations: {0}'.format(data_project.shape[0]))\n"
   ]
  },
  {
   "cell_type": "code",
   "execution_count": null,
   "metadata": {},
   "outputs": [],
   "source": [
    "#statistical analysis of 'followers_count','employees_on_platform' groupby 'company_name','industry'\n",
    "data_project.groupby(['industry','company_name'])['followers_count','employees_on_platform'].describe()"
   ]
  },
  {
   "cell_type": "code",
   "execution_count": null,
   "metadata": {},
   "outputs": [],
   "source": [
    "#Analysis of the quiantity of NaN in the data set\n",
    "\n",
    "def revisionNull(df):\n",
    "    a=df.isnull().sum()\n",
    "    resulNa=[ re for re in a if re>0 ]\n",
    "    if resulNa:\n",
    "        print(resulNa)\n",
    "        \n",
    "    else :\n",
    "        print(\"The dataframe has not NA values\")\n",
    "        \n",
    "\n",
    "revisionNull(data_project)\n"
   ]
  },
  {
   "cell_type": "code",
   "execution_count": null,
   "metadata": {},
   "outputs": [],
   "source": [
    "#Levels of categorical data\n",
    "\n",
    "variables_Categoricas  = list(data_project.select_dtypes(include=['object','datetime64']).columns)  \n",
    "for variable in  variables_Categoricas:\n",
    "        print(\"--\"*30,'COLUMNA:',variable)\n",
    "        #plt.cla()\n",
    "        print(\"VALORES :\\n \", pd.Series.value_counts(data_project[variable]))\n"
   ]
  },
  {
   "cell_type": "code",
   "execution_count": null,
   "metadata": {},
   "outputs": [],
   "source": [
    "#Levels of numerical data\n",
    "variables_Numericas  = list(data_project.select_dtypes(exclude=['object','datetime64']).columns)\n",
    "for variable in  variables_Numericas:\n",
    "        print(\"--\"*30,'COLUMNA:',variable)\n",
    "        #plt.cla()\n",
    "      \n",
    "        print(\"VALORES :\\n \", pd.Series.value_counts(data_project[variable]))"
   ]
  },
  {
   "cell_type": "code",
   "execution_count": 3,
   "metadata": {},
   "outputs": [
    {
     "data": {
      "text/plain": [
       "array([<matplotlib.axes._subplots.AxesSubplot object at 0x000002CD059F2A48>,\n",
       "       <matplotlib.axes._subplots.AxesSubplot object at 0x000002CD05A4A288>],\n",
       "      dtype=object)"
      ]
     },
     "execution_count": 3,
     "metadata": {},
     "output_type": "execute_result"
    },
    {
     "name": "stderr",
     "output_type": "stream",
     "text": [
      "D:\\Anaconda3\\lib\\site-packages\\matplotlib\\backends\\backend_agg.py:211: RuntimeWarning: Glyph 8480 missing from current font.\n",
      "  font.set_text(s, 0.0, flags=flags)\n",
      "D:\\Anaconda3\\lib\\site-packages\\matplotlib\\backends\\backend_agg.py:211: RuntimeWarning: Glyph 25628 missing from current font.\n",
      "  font.set_text(s, 0.0, flags=flags)\n",
      "D:\\Anaconda3\\lib\\site-packages\\matplotlib\\backends\\backend_agg.py:211: RuntimeWarning: Glyph 25151 missing from current font.\n",
      "  font.set_text(s, 0.0, flags=flags)\n",
      "D:\\Anaconda3\\lib\\site-packages\\matplotlib\\backends\\backend_agg.py:211: RuntimeWarning: Glyph 32593 missing from current font.\n",
      "  font.set_text(s, 0.0, flags=flags)\n",
      "D:\\Anaconda3\\lib\\site-packages\\matplotlib\\backends\\backend_agg.py:180: RuntimeWarning: Glyph 8480 missing from current font.\n",
      "  font.set_text(s, 0, flags=flags)\n",
      "D:\\Anaconda3\\lib\\site-packages\\matplotlib\\backends\\backend_agg.py:180: RuntimeWarning: Glyph 25628 missing from current font.\n",
      "  font.set_text(s, 0, flags=flags)\n",
      "D:\\Anaconda3\\lib\\site-packages\\matplotlib\\backends\\backend_agg.py:180: RuntimeWarning: Glyph 25151 missing from current font.\n",
      "  font.set_text(s, 0, flags=flags)\n",
      "D:\\Anaconda3\\lib\\site-packages\\matplotlib\\backends\\backend_agg.py:180: RuntimeWarning: Glyph 32593 missing from current font.\n",
      "  font.set_text(s, 0, flags=flags)\n"
     ]
    },
    {
     "data": {
      "image/png": "[encoded data removed]",
      "text/plain": [
       "<Figure size 432x288 with 2 Axes>"
      ]
     },
     "metadata": {
      "needs_background": "light"
     },
     "output_type": "display_data"
    }
   ],
   "source": [
    "#box plot\n",
    "#boxplot = data_project.groupby(['industry','company_name'])['followers_count','employees_on_platform'].boxplot(column=['followers_count','employees_on_platform'])\n",
    "np.random.seed(1234)\n",
    "\n",
    "boxplot = data_project.boxplot(column=['followers_count','employees_on_platform'], by=['industry','company_name'])\n",
    "boxplot\n"
   ]
  }
 ],
 "metadata": {
  "kernelspec": {
   "display_name": "Python 3",
   "language": "python",
   "name": "python3"
  },
  "language_info": {
   "codemirror_mode": {
    "name": "ipython",
    "version": 3
   },
   "file_extension": ".py",
   "mimetype": "text/x-python",
   "name": "python",
   "nbconvert_exporter": "python",
   "pygments_lexer": "ipython3",
   "version": "3.7.4"
  }
 },
 "nbformat": 4,
 "nbformat_minor": 2
}
